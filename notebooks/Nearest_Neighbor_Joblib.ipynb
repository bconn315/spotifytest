{
 "cells": [
  {
   "cell_type": "code",
   "execution_count": 2,
   "id": "604fb51e",
   "metadata": {},
   "outputs": [],
   "source": [
    "import numpy as np \n",
    "import pandas as pd\n",
    "import pickle\n",
    "import re\n",
    "\n",
    "from joblib import load, dump\n",
    "from sklearn.neighbors import NearestNeighbors\n",
    "\n",
    "pd.set_option('display.max_columns', 24)"
   ]
  },
  {
   "cell_type": "code",
   "execution_count": 8,
   "id": "180cf3d6",
   "metadata": {},
   "outputs": [],
   "source": [
    "# joblib our model\n",
    "def joblib_model():\n",
    "    \"\"\"\n",
    "    Opens our .csv file for model training\n",
    "    Trains a nearest neighbor model on our Spotify dataset, and joblib dumps the model \n",
    "    Returns the model, and the knn file\n",
    "    \n",
    "    input parameters: \n",
    "    ----------------\n",
    "    None\n",
    "    \n",
    "    output:\n",
    "    ------\n",
    "    model\n",
    "\n",
    "    \"\"\"\n",
    "    \n",
    "    # import data into a dataframe\n",
    "    df = pd.read_csv('./spotify_rock.csv', index_col=0)\n",
    "    \n",
    "    # training dataframe for NN model (drop str columns, 'artists', 'song')\n",
    "    df_train = df[df.columns[3:]]\n",
    "    \n",
    "    # make a copy of the truncated dataframe\n",
    "    df_train_trunc = df_train.copy()\n",
    "    \n",
    "    # create an instance of the Nearest Neighbors class\n",
    "    model = NearestNeighbors(n_neighbors=5, algorithm='kd_tree')\n",
    "\n",
    "    # fit the model \n",
    "    model.fit(df_train_trunc)\n",
    "\n",
    "    # joblib the model\n",
    "    dump(model, \"knn_model.joblib\", compress=True)\n",
    "   \n",
    "    return model"
   ]
  },
  {
   "cell_type": "code",
   "execution_count": 9,
   "id": "141d55d7",
   "metadata": {},
   "outputs": [],
   "source": [
    "model_knn = joblib_model()"
   ]
  },
  {
   "cell_type": "code",
   "execution_count": 12,
   "id": "91a5ee27",
   "metadata": {},
   "outputs": [
    {
     "data": {
      "text/plain": [
       "array([57473, 13812, 67196, 57031, 34491])"
      ]
     },
     "execution_count": 12,
     "metadata": {},
     "output_type": "execute_result"
    }
   ],
   "source": [
    "# create test use query(ies)\n",
    "# user_req = df.index[(df['song'] == 'Magic Carpet Ride') & (df['artists'] == 'Steppenwolf')]\n",
    "# user_req = df.index[(df['song'] == 'Know Your Enemy') & (df['artists'] == 'Rage Against The Machine')]\n",
    "user_req = df.index[(df['song'] == 'Jump') & (df['artists'] == 'Van Halen')]\n",
    "\n",
    "submit = user_req[0]\n",
    "\n",
    "# return model inputs based on user artist/song entry\n",
    "series = df.iloc[user_req, 3:].to_numpy()\n",
    "\n",
    "# query model based on input\n",
    "neighbors = model_knn.kneighbors(series, return_distance=False)\n",
    "\n",
    "# checkout results of NN\n",
    "neighbors[0]"
   ]
  },
  {
   "cell_type": "code",
   "execution_count": 20,
   "id": "7877dc35",
   "metadata": {},
   "outputs": [],
   "source": [
    "song_artists = pd.read_csv(\"./songs_artists.csv\", index_col=0)"
   ]
  },
  {
   "cell_type": "code",
   "execution_count": 21,
   "id": "3374c255",
   "metadata": {},
   "outputs": [
    {
     "data": {
      "text/html": [
       "<div>\n",
       "<style scoped>\n",
       "    .dataframe tbody tr th:only-of-type {\n",
       "        vertical-align: middle;\n",
       "    }\n",
       "\n",
       "    .dataframe tbody tr th {\n",
       "        vertical-align: top;\n",
       "    }\n",
       "\n",
       "    .dataframe thead th {\n",
       "        text-align: right;\n",
       "    }\n",
       "</style>\n",
       "<table border=\"1\" class=\"dataframe\">\n",
       "  <thead>\n",
       "    <tr style=\"text-align: right;\">\n",
       "      <th></th>\n",
       "      <th>artists</th>\n",
       "      <th>song</th>\n",
       "    </tr>\n",
       "  </thead>\n",
       "  <tbody>\n",
       "    <tr>\n",
       "      <th>0</th>\n",
       "      <td>Bohemia Suburbana</td>\n",
       "      <td>Retiro</td>\n",
       "    </tr>\n",
       "    <tr>\n",
       "      <th>1</th>\n",
       "      <td>Bohemia Suburbana</td>\n",
       "      <td>Tengo Que Llegar</td>\n",
       "    </tr>\n",
       "    <tr>\n",
       "      <th>2</th>\n",
       "      <td>Bohemia Suburbana</td>\n",
       "      <td>Pero Nadie</td>\n",
       "    </tr>\n",
       "    <tr>\n",
       "      <th>3</th>\n",
       "      <td>Daniela Araújo</td>\n",
       "      <td>Guia-Me</td>\n",
       "    </tr>\n",
       "    <tr>\n",
       "      <th>4</th>\n",
       "      <td>Audio Adrenaline</td>\n",
       "      <td>Big House</td>\n",
       "    </tr>\n",
       "  </tbody>\n",
       "</table>\n",
       "</div>"
      ],
      "text/plain": [
       "             artists              song\n",
       "0  Bohemia Suburbana            Retiro\n",
       "1  Bohemia Suburbana  Tengo Que Llegar\n",
       "2  Bohemia Suburbana        Pero Nadie\n",
       "3     Daniela Araújo           Guia-Me\n",
       "4   Audio Adrenaline         Big House"
      ]
     },
     "execution_count": 21,
     "metadata": {},
     "output_type": "execute_result"
    }
   ],
   "source": [
    "song_artists.head()"
   ]
  },
  {
   "cell_type": "code",
   "execution_count": 22,
   "id": "ccd59ca3",
   "metadata": {},
   "outputs": [
    {
     "data": {
      "text/html": [
       "<div>\n",
       "<style scoped>\n",
       "    .dataframe tbody tr th:only-of-type {\n",
       "        vertical-align: middle;\n",
       "    }\n",
       "\n",
       "    .dataframe tbody tr th {\n",
       "        vertical-align: top;\n",
       "    }\n",
       "\n",
       "    .dataframe thead th {\n",
       "        text-align: right;\n",
       "    }\n",
       "</style>\n",
       "<table border=\"1\" class=\"dataframe\">\n",
       "  <thead>\n",
       "    <tr style=\"text-align: right;\">\n",
       "      <th></th>\n",
       "      <th>artists</th>\n",
       "      <th>song</th>\n",
       "    </tr>\n",
       "  </thead>\n",
       "  <tbody>\n",
       "    <tr>\n",
       "      <th>85267</th>\n",
       "      <td>The Beatles</td>\n",
       "      <td>Twist And Shout - Remastered 2009</td>\n",
       "    </tr>\n",
       "    <tr>\n",
       "      <th>85268</th>\n",
       "      <td>The Beatles</td>\n",
       "      <td>I Saw Her Standing There - Remastered 2009</td>\n",
       "    </tr>\n",
       "    <tr>\n",
       "      <th>85269</th>\n",
       "      <td>The Beatles</td>\n",
       "      <td>Love Me Do - Remastered 2009</td>\n",
       "    </tr>\n",
       "    <tr>\n",
       "      <th>85270</th>\n",
       "      <td>The Beatles</td>\n",
       "      <td>All My Loving - Remastered 2009</td>\n",
       "    </tr>\n",
       "    <tr>\n",
       "      <th>85271</th>\n",
       "      <td>The Beatles</td>\n",
       "      <td>Till There Was You - Remastered 2009</td>\n",
       "    </tr>\n",
       "    <tr>\n",
       "      <th>...</th>\n",
       "      <td>...</td>\n",
       "      <td>...</td>\n",
       "    </tr>\n",
       "    <tr>\n",
       "      <th>85710</th>\n",
       "      <td>The Beatles</td>\n",
       "      <td>Penny Lane - Take 6 / Instrumental</td>\n",
       "    </tr>\n",
       "    <tr>\n",
       "      <th>85711</th>\n",
       "      <td>The Beatles</td>\n",
       "      <td>A Day In The Life - First Mono Mix</td>\n",
       "    </tr>\n",
       "    <tr>\n",
       "      <th>85712</th>\n",
       "      <td>The Beatles</td>\n",
       "      <td>Something - Take 39 / Instrumental / Strings Only</td>\n",
       "    </tr>\n",
       "    <tr>\n",
       "      <th>85713</th>\n",
       "      <td>The Beatles</td>\n",
       "      <td>Matchbox - Remastered 2009</td>\n",
       "    </tr>\n",
       "    <tr>\n",
       "      <th>85714</th>\n",
       "      <td>The Beatles</td>\n",
       "      <td>The Long And Winding Road - Anthology 3 Version</td>\n",
       "    </tr>\n",
       "  </tbody>\n",
       "</table>\n",
       "<p>448 rows × 2 columns</p>\n",
       "</div>"
      ],
      "text/plain": [
       "           artists                                               song\n",
       "85267  The Beatles                  Twist And Shout - Remastered 2009\n",
       "85268  The Beatles         I Saw Her Standing There - Remastered 2009\n",
       "85269  The Beatles                       Love Me Do - Remastered 2009\n",
       "85270  The Beatles                    All My Loving - Remastered 2009\n",
       "85271  The Beatles               Till There Was You - Remastered 2009\n",
       "...            ...                                                ...\n",
       "85710  The Beatles                 Penny Lane - Take 6 / Instrumental\n",
       "85711  The Beatles                 A Day In The Life - First Mono Mix\n",
       "85712  The Beatles  Something - Take 39 / Instrumental / Strings Only\n",
       "85713  The Beatles                         Matchbox - Remastered 2009\n",
       "85714  The Beatles    The Long And Winding Road - Anthology 3 Version\n",
       "\n",
       "[448 rows x 2 columns]"
      ]
     },
     "execution_count": 22,
     "metadata": {},
     "output_type": "execute_result"
    }
   ],
   "source": [
    "song_artists.loc[song_artists['artists'] == 'The Beatles']"
   ]
  },
  {
   "cell_type": "code",
   "execution_count": 23,
   "id": "0b340cce",
   "metadata": {},
   "outputs": [
    {
     "data": {
      "text/html": [
       "<div>\n",
       "<style scoped>\n",
       "    .dataframe tbody tr th:only-of-type {\n",
       "        vertical-align: middle;\n",
       "    }\n",
       "\n",
       "    .dataframe tbody tr th {\n",
       "        vertical-align: top;\n",
       "    }\n",
       "\n",
       "    .dataframe thead th {\n",
       "        text-align: right;\n",
       "    }\n",
       "</style>\n",
       "<table border=\"1\" class=\"dataframe\">\n",
       "  <thead>\n",
       "    <tr style=\"text-align: right;\">\n",
       "      <th></th>\n",
       "      <th>artists</th>\n",
       "      <th>song</th>\n",
       "    </tr>\n",
       "  </thead>\n",
       "  <tbody>\n",
       "    <tr>\n",
       "      <th>57473</th>\n",
       "      <td>Van Halen</td>\n",
       "      <td>Jump</td>\n",
       "    </tr>\n",
       "  </tbody>\n",
       "</table>\n",
       "</div>"
      ],
      "text/plain": [
       "         artists  song\n",
       "57473  Van Halen  Jump"
      ]
     },
     "metadata": {},
     "output_type": "display_data"
    },
    {
     "data": {
      "text/html": [
       "<div>\n",
       "<style scoped>\n",
       "    .dataframe tbody tr th:only-of-type {\n",
       "        vertical-align: middle;\n",
       "    }\n",
       "\n",
       "    .dataframe tbody tr th {\n",
       "        vertical-align: top;\n",
       "    }\n",
       "\n",
       "    .dataframe thead th {\n",
       "        text-align: right;\n",
       "    }\n",
       "</style>\n",
       "<table border=\"1\" class=\"dataframe\">\n",
       "  <thead>\n",
       "    <tr style=\"text-align: right;\">\n",
       "      <th></th>\n",
       "      <th>artists</th>\n",
       "      <th>song</th>\n",
       "    </tr>\n",
       "  </thead>\n",
       "  <tbody>\n",
       "    <tr>\n",
       "      <th>13812</th>\n",
       "      <td>Cielo Razzo</td>\n",
       "      <td>Qué Se Yo</td>\n",
       "    </tr>\n",
       "  </tbody>\n",
       "</table>\n",
       "</div>"
      ],
      "text/plain": [
       "           artists       song\n",
       "13812  Cielo Razzo  Qué Se Yo"
      ]
     },
     "metadata": {},
     "output_type": "display_data"
    },
    {
     "data": {
      "text/html": [
       "<div>\n",
       "<style scoped>\n",
       "    .dataframe tbody tr th:only-of-type {\n",
       "        vertical-align: middle;\n",
       "    }\n",
       "\n",
       "    .dataframe tbody tr th {\n",
       "        vertical-align: top;\n",
       "    }\n",
       "\n",
       "    .dataframe thead th {\n",
       "        text-align: right;\n",
       "    }\n",
       "</style>\n",
       "<table border=\"1\" class=\"dataframe\">\n",
       "  <thead>\n",
       "    <tr style=\"text-align: right;\">\n",
       "      <th></th>\n",
       "      <th>artists</th>\n",
       "      <th>song</th>\n",
       "    </tr>\n",
       "  </thead>\n",
       "  <tbody>\n",
       "    <tr>\n",
       "      <th>67196</th>\n",
       "      <td>The Black Crowes</td>\n",
       "      <td>Hotel Illness</td>\n",
       "    </tr>\n",
       "  </tbody>\n",
       "</table>\n",
       "</div>"
      ],
      "text/plain": [
       "                artists           song\n",
       "67196  The Black Crowes  Hotel Illness"
      ]
     },
     "metadata": {},
     "output_type": "display_data"
    },
    {
     "data": {
      "text/html": [
       "<div>\n",
       "<style scoped>\n",
       "    .dataframe tbody tr th:only-of-type {\n",
       "        vertical-align: middle;\n",
       "    }\n",
       "\n",
       "    .dataframe tbody tr th {\n",
       "        vertical-align: top;\n",
       "    }\n",
       "\n",
       "    .dataframe thead th {\n",
       "        text-align: right;\n",
       "    }\n",
       "</style>\n",
       "<table border=\"1\" class=\"dataframe\">\n",
       "  <thead>\n",
       "    <tr style=\"text-align: right;\">\n",
       "      <th></th>\n",
       "      <th>artists</th>\n",
       "      <th>song</th>\n",
       "    </tr>\n",
       "  </thead>\n",
       "  <tbody>\n",
       "    <tr>\n",
       "      <th>57031</th>\n",
       "      <td>Live</td>\n",
       "      <td>All Over You</td>\n",
       "    </tr>\n",
       "  </tbody>\n",
       "</table>\n",
       "</div>"
      ],
      "text/plain": [
       "      artists          song\n",
       "57031    Live  All Over You"
      ]
     },
     "metadata": {},
     "output_type": "display_data"
    },
    {
     "data": {
      "text/html": [
       "<div>\n",
       "<style scoped>\n",
       "    .dataframe tbody tr th:only-of-type {\n",
       "        vertical-align: middle;\n",
       "    }\n",
       "\n",
       "    .dataframe tbody tr th {\n",
       "        vertical-align: top;\n",
       "    }\n",
       "\n",
       "    .dataframe thead th {\n",
       "        text-align: right;\n",
       "    }\n",
       "</style>\n",
       "<table border=\"1\" class=\"dataframe\">\n",
       "  <thead>\n",
       "    <tr style=\"text-align: right;\">\n",
       "      <th></th>\n",
       "      <th>artists</th>\n",
       "      <th>song</th>\n",
       "    </tr>\n",
       "  </thead>\n",
       "  <tbody>\n",
       "    <tr>\n",
       "      <th>34491</th>\n",
       "      <td>Los Jaivas</td>\n",
       "      <td>Valparaíso</td>\n",
       "    </tr>\n",
       "  </tbody>\n",
       "</table>\n",
       "</div>"
      ],
      "text/plain": [
       "          artists        song\n",
       "34491  Los Jaivas  Valparaíso"
      ]
     },
     "metadata": {},
     "output_type": "display_data"
    }
   ],
   "source": [
    "# explore what the model returns as neighbors\n",
    "for _ in range(len(neighbors[0])):\n",
    "    display(song_artists[song_artists.index == neighbors[0][_]])"
   ]
  },
  {
   "cell_type": "code",
   "execution_count": 24,
   "id": "344e8d0e",
   "metadata": {},
   "outputs": [],
   "source": [
    "# load the model \n",
    "classifier = load('./knn_model.joblib')"
   ]
  },
  {
   "cell_type": "code",
   "execution_count": 25,
   "id": "c565a658",
   "metadata": {},
   "outputs": [],
   "source": [
    "# send through the same query using the joblib model\n",
    "neighbors = classifier.kneighbors(series, return_distance=False)"
   ]
  },
  {
   "cell_type": "code",
   "execution_count": 26,
   "id": "97056f84",
   "metadata": {},
   "outputs": [
    {
     "data": {
      "text/plain": [
       "array([57473, 13812, 67196, 57031, 34491])"
      ]
     },
     "execution_count": 26,
     "metadata": {},
     "output_type": "execute_result"
    }
   ],
   "source": [
    "# checkout results of NN\n",
    "neighbors[0]"
   ]
  }
 ],
 "metadata": {
  "kernelspec": {
   "display_name": "Python 3",
   "language": "python",
   "name": "python3"
  },
  "language_info": {
   "codemirror_mode": {
    "name": "ipython",
    "version": 3
   },
   "file_extension": ".py",
   "mimetype": "text/x-python",
   "name": "python",
   "nbconvert_exporter": "python",
   "pygments_lexer": "ipython3",
   "version": "3.9.1"
  }
 },
 "nbformat": 4,
 "nbformat_minor": 5
}
